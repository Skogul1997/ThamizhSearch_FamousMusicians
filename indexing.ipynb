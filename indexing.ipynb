{
 "cells": [
  {
   "cell_type": "code",
   "execution_count": 14,
   "metadata": {
    "collapsed": true
   },
   "outputs": [],
   "source": [
    "from elasticsearch import Elasticsearch, helpers\n",
    "import json\n",
    "\n",
    "client = Elasticsearch(HOST=\"http://localhost\", PORT=9200)"
   ]
  },
  {
   "cell_type": "code",
   "execution_count": 15,
   "outputs": [],
   "source": [
    "def read_data():\n",
    "    with open('data/famous_people_cleaned_final.json', 'r', encoding='utf-8') as f:\n",
    "        data = json.loads(f.read())\n",
    "        return data\n",
    "\n",
    "def genData(data_array):\n",
    "\n",
    "    for data in data_array:\n",
    "        name = data.get(\"பெயர்\", None)\n",
    "        intro = data.get(\"அறிமுகம்\",None)\n",
    "        content = data.get(\"உள்ளடக்கம்\", None)\n",
    "        first_film = data.get(\"முதல் படம்\", None)\n",
    "        date_of_birth = data.get(\"பிறந்த திகதி\", None)\n",
    "        date_of_birth_tamil = data.get(\"பிறந்த திகதி தமிழில்\", None)\n",
    "        place_of_birth = data.get(\"பிறப்பிடம்\", None)\n",
    "        place_of_birth_tamil = data.get(\"பிறப்பிடம் தமிழில்\", None)\n",
    "        years_active = data.get(\"செயற்பாட்டுக் காலம்\",None)\n",
    "        professions = data.get(\"தொழில்\", None)\n",
    "        music_formats = data.get(\"இசை வடிவங்கள்\", None)\n",
    "        instruments_played = data.get(\"இசைக்கருவிகள்\", None)\n",
    "        birth_month = data.get(\"பிறந்த மாதம்\", None)\n",
    "\n",
    "        yield {\n",
    "            \"_index\": \"famouspeopledatabase\",\n",
    "            \"_source\": {\n",
    "                \"பெயர்\": name,\n",
    "                \"அறிமுகம்\": intro,\n",
    "                \"உள்ளடக்கம்\": content,\n",
    "                \"முதல் படம்\": first_film,\n",
    "                \"பிறந்த திகதி\": date_of_birth,\n",
    "                \"பிறந்த திகதி தமிழில்\": date_of_birth_tamil,\n",
    "                \"பிறப்பிடம்\": place_of_birth,\n",
    "                \"பிறப்பிடம் தமிழில்\": place_of_birth_tamil,\n",
    "                \"தொழில்\": professions,\n",
    "                \"இசை வடிவங்கள்\" : music_formats,\n",
    "                \"இசைக்கருவிகள்\" : instruments_played,\n",
    "                \"பிறந்த மாதம்\" : birth_month\n",
    "            },\n",
    "        }"
   ],
   "metadata": {
    "collapsed": false,
    "pycharm": {
     "name": "#%%\n"
    }
   }
  },
  {
   "cell_type": "code",
   "execution_count": 16,
   "outputs": [
    {
     "data": {
      "text/plain": "(117, [])"
     },
     "execution_count": 16,
     "metadata": {},
     "output_type": "execute_result"
    }
   ],
   "source": [
    "final_data = read_data()\n",
    "helpers.bulk(client, genData(final_data))"
   ],
   "metadata": {
    "collapsed": false,
    "pycharm": {
     "name": "#%%\n"
    }
   }
  }
 ],
 "metadata": {
  "kernelspec": {
   "display_name": "Python 3",
   "language": "python",
   "name": "python3"
  },
  "language_info": {
   "codemirror_mode": {
    "name": "ipython",
    "version": 2
   },
   "file_extension": ".py",
   "mimetype": "text/x-python",
   "name": "python",
   "nbconvert_exporter": "python",
   "pygments_lexer": "ipython2",
   "version": "2.7.6"
  }
 },
 "nbformat": 4,
 "nbformat_minor": 0
}