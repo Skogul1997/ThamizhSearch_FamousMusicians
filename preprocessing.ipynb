{
 "cells": [
  {
   "cell_type": "code",
   "execution_count": 18,
   "metadata": {
    "collapsed": true
   },
   "outputs": [],
   "source": [
    "import json\n",
    "import pprint\n",
    "import re\n",
    "import time\n",
    "from googletrans import Translator\n",
    "\n",
    "pp = pprint.PrettyPrinter(indent=2)"
   ]
  },
  {
   "cell_type": "code",
   "execution_count": 19,
   "outputs": [],
   "source": [
    "with open(\"data/famous_people_raw_final.json\", \"r\", encoding='utf-8') as f:    # Read JSON File from data folder\n",
    "    json_list = json.load(f)"
   ],
   "metadata": {
    "collapsed": false,
    "pycharm": {
     "name": "#%%\n"
    }
   }
  },
  {
   "cell_type": "code",
   "execution_count": 20,
   "outputs": [],
   "source": [
    "def clean(text):\n",
    "\n",
    "    \"\"\"\n",
    "    :param text: text in tamil with punctuations, numbers and alphabetic characters\n",
    "    :return: cleaned text without punctuations, numbers and english characters\n",
    "    \"\"\"\n",
    "\n",
    "    text = re.sub(r\"\\([^()]*\\)\", \"\", text) # remove text within parenthesis eg: (born in chennai)\n",
    "    text = re.sub(\"[a-zA-Z]\", \"\", text) # remove english characters\n",
    "    text = re.sub(\"[0-9]\", \"\", text) # remove numbers from the string\n",
    "    text = re.sub(\"[!\\\"#$%&'()*+,\\-/:;<=>?@[\\]^_`{|}~]\", \"\", text) # remove punctuations from text except fullstops\n",
    "    text = re.sub(\" +\", \" \", text) # remove extra whitespaces\n",
    "\n",
    "    # if len(text.split())<=10:\n",
    "    #     return None\n",
    "\n",
    "    return text.replace('.', ' . ') # replace full stop by spaces\n",
    "\n",
    "def translate_date(date):\n",
    "\n",
    "    \"\"\"\n",
    "    :param date: Date as a string eg: 14 September 1997\n",
    "    :return: Date converted to tamil form eg: 14 புரட்டாசி 1997\n",
    "    \"\"\"\n",
    "\n",
    "    key_map = {\n",
    "        'january' : \"தை\", 'february' : \"மாசி\", 'march' : \"பங்குனி\",\n",
    "        'april' : \"சித்திரை\", 'may' : \"வைகாசி\", 'june' : \"ஆணி\",\n",
    "        'july' : \"ஆடி\", 'august' : \"ஆவணி\", 'september' : \"புரட்டாசி\",\n",
    "        'october' : \"ஐப்பசி\", 'november' : \"கார்த்திகை\",\n",
    "        'december' : \"மார்கழி\"\n",
    "    }\n",
    "\n",
    "    if date == None:\n",
    "        return date\n",
    "\n",
    "    date = date.lower()\n",
    "    for key in key_map:\n",
    "        date = date.replace(key, key_map[key])\n",
    "\n",
    "    return date"
   ],
   "metadata": {
    "collapsed": false,
    "pycharm": {
     "name": "#%%\n"
    }
   }
  },
  {
   "cell_type": "code",
   "execution_count": 21,
   "outputs": [],
   "source": [
    "for item in json_list: # The following is manual cleaning for some data fields\n",
    "    if item['பெயர்'] == 'ஏ.எல்.ராகவன்(பாடகர்)':\n",
    "        item['பெயர்'] = 'ஏ.எல்.ராகவன்'\n",
    "    if item['பெயர்'] == 'எஸ்.சி.கிருஷ்ணன்':\n",
    "        item['பிறந்த திகதி'] = None\n",
    "    if item['பெயர்'] == 'சிவமணி':\n",
    "        item['பிறந்த திகதி'] = '01/12/1959'\n",
    "        item['பிறந்த திகதி தமிழில்'] = '01 மார்கழி 1959'\n",
    "    if item['பெயர்'] == 'ஏ. எம். ராஜா':\n",
    "        item['செயற்பாட்டுக் காலம்'] = '1950-1970'\n",
    "    if item['பெயர்'] == 'ஜேம்ஸ் வசந்தன்':\n",
    "        item['செயற்பாட்டுக் காலம்'] = '2008-present'\n",
    "    if item['பெயர்'] == 'விஷால் சந்திரசேகர்':\n",
    "        item['செயற்பாட்டுக் காலம்'] = '2002–present'\n",
    "    if item['பெயர்'] == 'உன்னிமேனன்':\n",
    "        item['செயற்பாட்டுக் காலம்'] = '1980-present'"
   ],
   "metadata": {
    "collapsed": false,
    "pycharm": {
     "name": "#%%\n"
    }
   }
  },
  {
   "cell_type": "code",
   "execution_count": 22,
   "outputs": [],
   "source": [
    "text_fields = ['அறிமுகம்', 'உள்ளடக்கம்'] # Specify text fields\n",
    "date_fields = ['பிறந்த திகதி தமிழில்']\n",
    "lists = ['தொழில்', 'இசை வடிவங்கள்', 'இசைக்கருவிகள்']\n",
    "\n",
    "for item in json_list:\n",
    "    for field in text_fields:\n",
    "        if item[field] != None:\n",
    "            item[field] = clean(item[field])\n",
    "    for field in date_fields:\n",
    "        item['பிறந்த மாதம்'] = None\n",
    "        item[field] = translate_date(item[field])\n",
    "    for field in lists:\n",
    "        for i,k in enumerate(item[field]):\n",
    "            item[field][i] = clean(k).strip()\n",
    "\n",
    "    # TODO Rerun the scraper and generate data.txt and then uncomment below lines\n",
    "    if 'அறிமுக ஆண்டு' in item.keys():\n",
    "        del item['அறிமுக ஆண்டு']"
   ],
   "metadata": {
    "collapsed": false,
    "pycharm": {
     "name": "#%%\n"
    }
   }
  },
  {
   "cell_type": "code",
   "execution_count": 23,
   "outputs": [],
   "source": [
    "from langdetect import detect\n",
    "from google_trans_new import google_translator\n",
    "\n",
    "translator = google_translator(url_suffix=\"in\")\n",
    "\n",
    "\n",
    "# translator = Translator()\n",
    "\n",
    "def translate_birth_place(place):\n",
    "\n",
    "    \"\"\"\n",
    "    :param place: place of birth in English\n",
    "    :return: corresponding Thamizh translation\n",
    "    \"\"\"\n",
    "\n",
    "    if place == None or place == '':\n",
    "        return None\n",
    "\n",
    "    if detect(place) == 'ta':\n",
    "        return place\n",
    "\n",
    "    place = place.lower()\n",
    "    place = place.replace('british india', 'india')\n",
    "\n",
    "    return translator.translate(place, lang_tgt='ta')\n",
    "\n",
    "\n",
    "for item in json_list:\n",
    "\n",
    "    english_text = item['பிறப்பிடம்']\n",
    "    item['பிறப்பிடம் தமிழில்'] = translate_birth_place(item['பிறப்பிடம்'])\n",
    "\n",
    "    # pp.pprint(f\"{english_text} was translated as {item['பிறப்பிடம்']}\")\n",
    "    time.sleep(1)"
   ],
   "metadata": {
    "collapsed": false,
    "pycharm": {
     "name": "#%%\n"
    }
   }
  },
  {
   "cell_type": "code",
   "execution_count": 24,
   "outputs": [],
   "source": [
    "with open('data/famous_people_cleaned_final.json', 'w', encoding='utf-8') as f:\n",
    "    json.dump(json_list, f, ensure_ascii=False, indent=4)"
   ],
   "metadata": {
    "collapsed": false,
    "pycharm": {
     "name": "#%%\n"
    }
   }
  },
  {
   "cell_type": "code",
   "execution_count": 27,
   "outputs": [],
   "source": [
    "with open(\"data/famous_people_cleaned_final.json\", \"r\", encoding='utf-8') as f:    # Read JSON File from data folder\n",
    "    json_list = json.load(f)\n",
    "\n",
    "months = [\"தை\", \"மாசி\", \"பங்குனி\", \"சித்திரை\", \"வைகாசி\", \"ஆணி\",\n",
    "    \"ஆடி\", \"ஆவணி\", \"புரட்டாசி\", \"ஐப்பசி\", \"கார்த்திகை\", \"மார்கழி\"\n",
    "]\n",
    "for item in json_list:\n",
    "    for key in months:\n",
    "        if item['பிறந்த திகதி தமிழில்'] != None:\n",
    "            if key in item['பிறந்த திகதி தமிழில்']:\n",
    "                item['பிறந்த மாதம்'] = key\n",
    "\n",
    "with open('data/famous_people_cleaned_final.json', 'w', encoding='utf-8') as f:\n",
    "    json.dump(json_list, f, ensure_ascii=False, indent=4)"
   ],
   "metadata": {
    "collapsed": false,
    "pycharm": {
     "name": "#%%\n"
    }
   }
  }
 ],
 "metadata": {
  "kernelspec": {
   "display_name": "Python 3",
   "language": "python",
   "name": "python3"
  },
  "language_info": {
   "codemirror_mode": {
    "name": "ipython",
    "version": 2
   },
   "file_extension": ".py",
   "mimetype": "text/x-python",
   "name": "python",
   "nbconvert_exporter": "python",
   "pygments_lexer": "ipython2",
   "version": "2.7.6"
  }
 },
 "nbformat": 4,
 "nbformat_minor": 0
}