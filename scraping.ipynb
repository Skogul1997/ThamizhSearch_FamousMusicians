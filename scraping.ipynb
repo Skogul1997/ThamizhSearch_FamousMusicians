{
 "nbformat": 4,
 "nbformat_minor": 0,
 "metadata": {
  "colab": {
   "name": "Scraping.ipynb",
   "provenance": [],
   "collapsed_sections": [
    "y4Rc77Ru7S-Z"
   ]
  },
  "kernelspec": {
   "name": "python3",
   "display_name": "Python 3"
  },
  "language_info": {
   "name": "python"
  }
 },
 "cells": [
  {
   "cell_type": "markdown",
   "source": [
    "Import the necessary libraries for scraping"
   ],
   "metadata": {
    "collapsed": false,
    "pycharm": {
     "name": "#%% md\n"
    }
   }
  },
  {
   "cell_type": "code",
   "execution_count": 79,
   "outputs": [],
   "source": [
    "import requests\n",
    "from bs4 import BeautifulSoup\n",
    "from dateutil import parser\n",
    "import re\n",
    "from datetime import datetime\n",
    "import pprint\n",
    "import json"
   ],
   "metadata": {
    "collapsed": false,
    "pycharm": {
     "name": "#%%\n"
    }
   }
  },
  {
   "cell_type": "markdown",
   "metadata": {
    "id": "rraML-BwPZEG",
    "pycharm": {
     "name": "#%% md\n"
    }
   },
   "source": [
    "## **Functions**\n",
    "\n",
    "Functions used within the scraper"
   ]
  },
  {
   "cell_type": "code",
   "metadata": {
    "id": "nPAxNWOAjEey"
   },
   "source": [
    "def get_dob(text):\n",
    "  '''\n",
    "  This function takes in the STRING which has the date of birth and extract it.\n",
    "\n",
    "  :param text: ஞானதேசிகன், இராசையா, சூன் 2, 1943 (அகவை 78) , பண்ணைப்புரம், தேனி, சென்னை மாகாணம் இந்தியா\n",
    "  :return: 1943-06-02\n",
    "  '''\n",
    "  if text == None:\n",
    "    return text\n",
    "    \n",
    "  match_str = re.search(r'\\d{4}-\\d{2}-\\d{2}', text)\n",
    "\n",
    "  if match_str != None:\n",
    "    res = datetime.strptime(match_str.group(), '%Y-%m-%d').date()\n",
    "    return res\n",
    "\n",
    "  else:\n",
    "\n",
    "    try:\n",
    "      # extracting date using inbuilt func.\n",
    "      res = parser.parse(text, fuzzy=True)\n",
    "\n",
    "      return res\n",
    "    \n",
    "    except Exception:\n",
    "\n",
    "      return None\n",
    "\n",
    "def scrape_tamil_page(link): # returns English Link, Intro, Content, Profession, Music formats and Instruments played\n",
    "  '''\n",
    "  This function takes in the link to a Wikipedia page in Thamizh and returns the content\n",
    "\n",
    "  :param link: https://ta.wikipedia.org/wiki/%E0%AE%87%E0%AE%B3%E0%AF%88%E0%AE%AF%E0%AE%B0%E0%AE%BE%E0%AE%9C%E0%AE%BE\n",
    "  :return: https://en.wikipedia.org/wiki/Ilaiyaraaja, Introduction in Thamizh , Content in Thamizh, [Professions], [Music formats], [Instruments]\n",
    "  '''\n",
    "  if link == None:\n",
    "    return None, None\n",
    "\n",
    "  else:\n",
    "\n",
    "    response = requests.get(url=link)\n",
    "    soup = BeautifulSoup(response.content, 'html.parser')\n",
    "\n",
    "    english_link = soup.find('a', {'class': \"interlanguage-link-target\", 'lang': \"en\"})['href']\n",
    "    rows = soup.find('div', class_=\"mw-parser-output\")\n",
    "\n",
    "    intro, content, intro_flag = \"\", \"\", True\n",
    "\n",
    "    for row in rows:\n",
    "\n",
    "      if row.name == 'h2':\n",
    "        intro_flag=False\n",
    "\n",
    "      if intro_flag:\n",
    "        if row.name == 'p':\n",
    "          intro += row.text\n",
    "      else:\n",
    "        if row.name == 'p':\n",
    "          content += row.text\n",
    "\n",
    "    if content == \"\":\n",
    "      content = None\n",
    "\n",
    "    professions, music_formats, instruments_played = [], [], []\n",
    "\n",
    "    try:\n",
    "      results = soup.find('table', class_=\"infobox vcard plainlist\").find_all('tr')\n",
    "    except AttributeError:\n",
    "      try:\n",
    "        results = soup.find('table', class_=\"infobox biography vcard\").find_all('tr')\n",
    "      except AttributeError:\n",
    "        try:\n",
    "          results = soup.find('table', class_=\"infobox vcard\").find_all('tr')\n",
    "        except AttributeError: # infobox vevent\n",
    "          try:\n",
    "            results = soup.find('table', class_=\"infobox vevent\").find_all('tr')\n",
    "          except:\n",
    "            return english_link, clean(intro), clean(content), professions, music_formats, instruments_played\n",
    "\n",
    "\n",
    "    for item in results:\n",
    "      if item.find('th') != None:\n",
    "        if item.find('th').text in ['தொழில்(கள்)', 'பணி', 'அறியப்படுவது', 'தொழில்']:\n",
    "          professions = item.find('td').text.strip().split(\",\")\n",
    "        if item.find('th').text in ['இசை வடிவங்கள்']:\n",
    "          music_formats = item.find('td').text.strip().split(\",\")\n",
    "        if item.find('th').text in ['இசைக்கருவி(கள்)', 'இசைக்கருவி']:\n",
    "          instruments_played = item.find('td').text.strip().split(\",\")\n",
    "\n",
    "    return english_link, clean(intro), clean(content), professions, music_formats, instruments_played\n",
    "\n",
    "def scrape_english_page(english_link): # Returns place of birth, date of birth, years active and image url\n",
    "  '''\n",
    "  This function takes in the english link and returns the place of birth, date of birth,  years active and image url of the artist\n",
    "\n",
    "  :param english_link:  https://en.wikipedia.org/wiki/Ilaiyaraaja\n",
    "  :return:  \"Pannaipuram, Madura District, Madras Presidency, British India\" , \"2 June 1943 (age 78)\" , \"1976–present\" , url_to_image\n",
    "  '''\n",
    "  response = requests.get(url=english_link)\n",
    "  soup = BeautifulSoup(response.content, 'html.parser')\n",
    "  birth, years_active, image = None, None, None\n",
    "\n",
    "  try:\n",
    "    results = soup.find('table', class_=\"infobox vcard plainlist\").find_all('tr')\n",
    "  except AttributeError:\n",
    "    try:\n",
    "      results = soup.find('table', class_=\"infobox biography vcard\").find_all('tr')\n",
    "    except AttributeError:\n",
    "      try:\n",
    "        results = soup.find('table', class_=\"infobox vcard\").find_all('tr')\n",
    "      except: # infobox vevent\n",
    "        results = soup.find('table', class_=\"infobox vevent\").find_all('tr')\n",
    "\n",
    "  if soup.find('td', class_=\"infobox-image\") != None:\n",
    "    image = soup.find('td', class_=\"infobox-image\").find('img')['src'][2:]\n",
    "\n",
    "  for item in results:\n",
    "    if item.find('th') == None:\n",
    "      continue\n",
    "    else:\n",
    "      if item.find('th').string == \"Born\":\n",
    "        birth = re.sub(r'\\[.*?\\]+', '', item.find('td').text)\n",
    "        # birth = re.sub(r'\\[.*?\\]+', '', item.find('td').string)\n",
    "      try:\n",
    "        if all(x in item.find('th').string.lower() for x in ['years', 'active']):\n",
    "          years_active = item.find('td').text\n",
    "          # years_active = item.find('td').string\n",
    "      except AttributeError:\n",
    "        continue\n",
    "\n",
    "  cut = None\n",
    "\n",
    "  if birth != None:\n",
    "    for i in range(len(birth)-1, 0 , -1):\n",
    "      if birth[i].isnumeric():\n",
    "        cut = i\n",
    "        break\n",
    "\n",
    "    if cut == len(birth)-1:\n",
    "      date_of_birth = birth\n",
    "      place_of_birth = None\n",
    "\n",
    "    if cut!= None:\n",
    "      place_of_birth = birth[cut+1:]\n",
    "      date_of_birth = birth[:cut+1]\n",
    "    else:\n",
    "      place_of_birth = birth\n",
    "      date_of_birth = None\n",
    "\n",
    "  else:\n",
    "    place_of_birth = None\n",
    "    date_of_birth = None\n",
    "\n",
    "  return(place_of_birth, date_of_birth, years_active, image)"
   ],
   "execution_count": 81,
   "outputs": []
  },
  {
   "cell_type": "code",
   "metadata": {
    "id": "vap-31nXO76I"
   },
   "source": [
    "def clean(text):\n",
    "  if text != None:\n",
    "    text = re.sub(r'\\[.*?\\]+', '', text)\n",
    "    text = text.replace('\\n', '')\n",
    "    return text\n",
    "  \n",
    "  else:\n",
    "    return text"
   ],
   "execution_count": 82,
   "outputs": []
  },
  {
   "cell_type": "markdown",
   "metadata": {
    "id": "y4Rc77Ru7S-Z"
   },
   "source": [
    "## **List of Tamil Singer**\n",
    "\n",
    "The below web page is initially scraped to get a list of famous singers."
   ]
  },
  {
   "cell_type": "code",
   "metadata": {
    "id": "D4URBZv_4avW"
   },
   "source": [
    "response = requests.get(url=\"https://ta.wikipedia.org/wiki/%E0%AE%A4%E0%AE%AE%E0%AE%BF%E0%AE%B4%E0%AF%8D%E0%AE%A4%E0%AF%8D_%E0%AE%A4%E0%AE%BF%E0%AE%B0%E0%AF%88%E0%AE%AA%E0%AF%8D%E0%AE%AA%E0%AE%9F%E0%AE%AA%E0%AF%8D_%E0%AE%AA%E0%AE%BE%E0%AE%9F%E0%AE%95%E0%AE%B0%E0%AF%8D%E0%AE%95%E0%AE%B3%E0%AE%BF%E0%AE%A9%E0%AF%8D_%E0%AE%AA%E0%AE%9F%E0%AF%8D%E0%AE%9F%E0%AE%BF%E0%AE%AF%E0%AE%B2%E0%AF%8D\")\n",
    "soup = BeautifulSoup(response.content, \"html.parser\")"
   ],
   "execution_count": 83,
   "outputs": []
  },
  {
   "cell_type": "code",
   "metadata": {
    "id": "b9ddi1Wj4mTq"
   },
   "source": [
    "results = soup.find('div', class_=\"mw-parser-output\")\n",
    "results = results.find_all('a')\n",
    "x = {}\n",
    "for result in results:\n",
    "  x[result.string] = {\n",
    "      'tamil_link' : \"https://ta.wikipedia.org\"+result['href'],\n",
    "      'முதல் படம்' : None,\n",
    "      'அறிமுக ஆண்டு': None\n",
    "  }"
   ],
   "execution_count": 84,
   "outputs": []
  },
  {
   "cell_type": "code",
   "execution_count": 85,
   "outputs": [
    {
     "name": "stdout",
     "output_type": "stream",
     "text": [
      "{'உதித் நாராயண்': {'tamil_link': 'https://ta.wikipedia.org/wiki/%E0%AE%89%E0%AE%A4%E0%AE%BF%E0%AE%A4%E0%AF%8D_%E0%AE%A8%E0%AE%BE%E0%AE%B0%E0%AE%BE%E0%AE%AF%E0%AE%A3%E0%AF%8D',\n",
      "                   'அறிமுக ஆண்டு': None,\n",
      "                   'முதல் படம்': None},\n",
      " 'உன்னிகிருஷ்ணன்': {'tamil_link': 'https://ta.wikipedia.org/wiki/%E0%AE%89%E0%AE%A9%E0%AF%8D%E0%AE%A9%E0%AE%BF%E0%AE%95%E0%AE%BF%E0%AE%B0%E0%AF%81%E0%AE%B7%E0%AF%8D%E0%AE%A3%E0%AE%A9%E0%AF%8D',\n",
      "                    'அறிமுக ஆண்டு': None,\n",
      "                    'முதல் படம்': None},\n",
      " 'உன்னிமேனன்': {'tamil_link': 'https://ta.wikipedia.org/wiki/%E0%AE%89%E0%AE%A9%E0%AF%8D%E0%AE%A9%E0%AE%BF%E0%AE%AE%E0%AF%87%E0%AE%A9%E0%AE%A9%E0%AF%8D',\n",
      "                'அறிமுக ஆண்டு': None,\n",
      "                'முதல் படம்': None},\n",
      " 'எஸ். பி. பாலசுப்பிரமணியம்': {'tamil_link': 'https://ta.wikipedia.org/wiki/%E0%AE%8E%E0%AE%B8%E0%AF%8D._%E0%AE%AA%E0%AE%BF._%E0%AE%AA%E0%AE%BE%E0%AE%B2%E0%AE%9A%E0%AF%81%E0%AE%AA%E0%AF%8D%E0%AE%AA%E0%AE%BF%E0%AE%B0%E0%AE%AE%E0%AE%A3%E0%AE%BF%E0%AE%AF%E0%AE%AE%E0%AF%8D',\n",
      "                               'அறிமுக ஆண்டு': None,\n",
      "                               'முதல் படம்': None},\n",
      " 'எஸ். பி. பி. சரண்': {'tamil_link': 'https://ta.wikipedia.org/wiki/%E0%AE%8E%E0%AE%B8%E0%AF%8D._%E0%AE%AA%E0%AE%BF._%E0%AE%AA%E0%AE%BF._%E0%AE%9A%E0%AE%B0%E0%AE%A3%E0%AF%8D',\n",
      "                       'அறிமுக ஆண்டு': None,\n",
      "                       'முதல் படம்': None},\n",
      " 'எஸ்.சி.கிருஷ்ணன்': {'tamil_link': 'https://ta.wikipedia.org/wiki/%E0%AE%8E%E0%AE%B8%E0%AF%8D.%E0%AE%9A%E0%AE%BF.%E0%AE%95%E0%AE%BF%E0%AE%B0%E0%AF%81%E0%AE%B7%E0%AF%8D%E0%AE%A3%E0%AE%A9%E0%AF%8D',\n",
      "                      'அறிமுக ஆண்டு': None,\n",
      "                      'முதல் படம்': None},\n",
      " 'ஏ. எம். ராஜா': {'tamil_link': 'https://ta.wikipedia.org/wiki/%E0%AE%8F._%E0%AE%8E%E0%AE%AE%E0%AF%8D._%E0%AE%B0%E0%AE%BE%E0%AE%9C%E0%AE%BE',\n",
      "                  'அறிமுக ஆண்டு': None,\n",
      "                  'முதல் படம்': None},\n",
      " 'ஏ.எல்.ராகவன்(பாடகர்)': {'tamil_link': 'https://ta.wikipedia.org/wiki/%E0%AE%8F.%E0%AE%8E%E0%AE%B2%E0%AF%8D.%E0%AE%B0%E0%AE%BE%E0%AE%95%E0%AE%B5%E0%AE%A9%E0%AF%8D(%E0%AE%AA%E0%AE%BE%E0%AE%9F%E0%AE%95%E0%AE%B0%E0%AF%8D)',\n",
      "                          'அறிமுக ஆண்டு': None,\n",
      "                          'முதல் படம்': None},\n",
      " 'கார்த்திக்': {'tamil_link': 'https://ta.wikipedia.org/wiki/%E0%AE%95%E0%AE%BE%E0%AE%B0%E0%AF%8D%E0%AE%A4%E0%AF%8D%E0%AE%A4%E0%AE%BF%E0%AE%95%E0%AF%8D_(%E0%AE%AA%E0%AE%BE%E0%AE%9F%E0%AE%95%E0%AE%B0%E0%AF%8D)',\n",
      "                'அறிமுக ஆண்டு': None,\n",
      "                'முதல் படம்': None},\n",
      " 'கே. ஜே. யேசுதாஸ்': {'tamil_link': 'https://ta.wikipedia.org/wiki/%E0%AE%95%E0%AF%87._%E0%AE%9C%E0%AF%87._%E0%AE%AF%E0%AF%87%E0%AE%9A%E0%AF%81%E0%AE%A4%E0%AE%BE%E0%AE%B8%E0%AF%8D',\n",
      "                      'அறிமுக ஆண்டு': None,\n",
      "                      'முதல் படம்': None},\n",
      " 'சங்கர் மகாதேவன்': {'tamil_link': 'https://ta.wikipedia.org/wiki/%E0%AE%9A%E0%AE%99%E0%AF%8D%E0%AE%95%E0%AE%B0%E0%AF%8D_%E0%AE%AE%E0%AE%95%E0%AE%BE%E0%AE%A4%E0%AF%87%E0%AE%B5%E0%AE%A9%E0%AF%8D',\n",
      "                     'அறிமுக ஆண்டு': None,\n",
      "                     'முதல் படம்': None},\n",
      " 'சந்திரபாபு': {'tamil_link': 'https://ta.wikipedia.org/wiki/%E0%AE%9A%E0%AE%A8%E0%AF%8D%E0%AE%A4%E0%AE%BF%E0%AE%B0%E0%AE%AA%E0%AE%BE%E0%AE%AA%E0%AF%81',\n",
      "                'அறிமுக ஆண்டு': None,\n",
      "                'முதல் படம்': None},\n",
      " 'சி.எஸ்.ஜெயராமன்': {'tamil_link': 'https://ta.wikipedia.org/wiki/%E0%AE%9A%E0%AE%BF.%E0%AE%8E%E0%AE%B8%E0%AF%8D.%E0%AE%9C%E0%AF%86%E0%AE%AF%E0%AE%B0%E0%AE%BE%E0%AE%AE%E0%AE%A9%E0%AF%8D',\n",
      "                     'அறிமுக ஆண்டு': None,\n",
      "                     'முதல் படம்': None},\n",
      " 'சீர்காழி கோவிந்தராஜன்': {'tamil_link': 'https://ta.wikipedia.org/wiki/%E0%AE%9A%E0%AF%80%E0%AE%B0%E0%AF%8D%E0%AE%95%E0%AE%BE%E0%AE%B4%E0%AE%BF_%E0%AE%95%E0%AF%8B%E0%AE%B5%E0%AE%BF%E0%AE%A8%E0%AF%8D%E0%AE%A4%E0%AE%B0%E0%AE%BE%E0%AE%9C%E0%AE%A9%E0%AF%8D',\n",
      "                           'அறிமுக ஆண்டு': None,\n",
      "                           'முதல் படம்': None},\n",
      " 'ஜெயச்சந்திரன்': {'tamil_link': 'https://ta.wikipedia.org/wiki/%E0%AE%9C%E0%AF%86%E0%AE%AF%E0%AE%9A%E0%AF%8D%E0%AE%9A%E0%AE%A8%E0%AF%8D%E0%AE%A4%E0%AE%BF%E0%AE%B0%E0%AE%A9%E0%AF%8D',\n",
      "                   'அறிமுக ஆண்டு': None,\n",
      "                   'முதல் படம்': None},\n",
      " 'டி. எம். சௌந்தரராஜன்': {'tamil_link': 'https://ta.wikipedia.org/wiki/%E0%AE%9F%E0%AE%BF._%E0%AE%8E%E0%AE%AE%E0%AF%8D._%E0%AE%9A%E0%AF%8C%E0%AE%A8%E0%AF%8D%E0%AE%A4%E0%AE%B0%E0%AE%B0%E0%AE%BE%E0%AE%9C%E0%AE%A9%E0%AF%8D',\n",
      "                          'அறிமுக ஆண்டு': None,\n",
      "                          'முதல் படம்': None},\n",
      " 'தாராபுரம் சுந்தரராஜன்': {'tamil_link': 'https://ta.wikipedia.org/w/index.php?title=%E0%AE%A4%E0%AE%BE%E0%AE%B0%E0%AE%BE%E0%AE%AA%E0%AF%81%E0%AE%B0%E0%AE%AE%E0%AF%8D_%E0%AE%9A%E0%AF%81%E0%AE%A8%E0%AF%8D%E0%AE%A4%E0%AE%B0%E0%AE%B0%E0%AE%BE%E0%AE%9C%E0%AE%A9%E0%AF%8D&action=edit&redlink=1',\n",
      "                           'அறிமுக ஆண்டு': None,\n",
      "                           'முதல் படம்': None},\n",
      " 'திப்பு': {'tamil_link': 'https://ta.wikipedia.org/wiki/%E0%AE%A4%E0%AE%BF%E0%AE%AA%E0%AF%8D%E0%AE%AA%E0%AF%81',\n",
      "            'அறிமுக ஆண்டு': None,\n",
      "            'முதல் படம்': None},\n",
      " 'திருச்சி லோகநாதன்': {'tamil_link': 'https://ta.wikipedia.org/wiki/%E0%AE%A4%E0%AE%BF%E0%AE%B0%E0%AF%81%E0%AE%9A%E0%AF%8D%E0%AE%9A%E0%AE%BF_%E0%AE%B2%E0%AF%8B%E0%AE%95%E0%AE%A8%E0%AE%BE%E0%AE%A4%E0%AE%A9%E0%AF%8D',\n",
      "                       'அறிமுக ஆண்டு': None,\n",
      "                       'முதல் படம்': None},\n",
      " 'பி. பி. ஸ்ரீநிவாஸ்': {'tamil_link': 'https://ta.wikipedia.org/wiki/%E0%AE%AA%E0%AE%BF._%E0%AE%AA%E0%AE%BF._%E0%AE%B8%E0%AF%8D%E0%AE%B0%E0%AF%80%E0%AE%A8%E0%AE%BF%E0%AE%B5%E0%AE%BE%E0%AE%B8%E0%AF%8D',\n",
      "                        'அறிமுக ஆண்டு': None,\n",
      "                        'முதல் படம்': None},\n",
      " 'மது பாலகிருஷ்ணன்': {'tamil_link': 'https://ta.wikipedia.org/wiki/%E0%AE%AE%E0%AE%A4%E0%AF%81_%E0%AE%AA%E0%AE%BE%E0%AE%B2%E0%AE%95%E0%AE%BF%E0%AE%B0%E0%AF%81%E0%AE%B7%E0%AF%8D%E0%AE%A3%E0%AE%A9%E0%AF%8D',\n",
      "                      'அறிமுக ஆண்டு': None,\n",
      "                      'முதல் படம்': None},\n",
      " 'மனோ': {'tamil_link': 'https://ta.wikipedia.org/wiki/%E0%AE%AE%E0%AE%A9%E0%AF%8B',\n",
      "         'அறிமுக ஆண்டு': None,\n",
      "         'முதல் படம்': None},\n",
      " 'மலேசியா வாசுதேவன்': {'tamil_link': 'https://ta.wikipedia.org/wiki/%E0%AE%AE%E0%AE%B2%E0%AF%87%E0%AE%9A%E0%AE%BF%E0%AE%AF%E0%AE%BE_%E0%AE%B5%E0%AE%BE%E0%AE%9A%E0%AF%81%E0%AE%A4%E0%AF%87%E0%AE%B5%E0%AE%A9%E0%AF%8D',\n",
      "                       'அறிமுக ஆண்டு': None,\n",
      "                       'முதல் படம்': None},\n",
      " 'விஜய் யேசுதாஸ்': {'tamil_link': 'https://ta.wikipedia.org/wiki/%E0%AE%B5%E0%AE%BF%E0%AE%9C%E0%AE%AF%E0%AF%8D_%E0%AE%AF%E0%AF%87%E0%AE%9A%E0%AF%81%E0%AE%A4%E0%AE%BE%E0%AE%B8%E0%AF%8D',\n",
      "                    'அறிமுக ஆண்டு': None,\n",
      "                    'முதல் படம்': None},\n",
      " 'ஸ்ரீநிவாஸ்': {'tamil_link': 'https://ta.wikipedia.org/wiki/%E0%AE%B8%E0%AF%8D%E0%AE%B0%E0%AF%80%E0%AE%A8%E0%AE%BF%E0%AE%B5%E0%AE%BE%E0%AE%B8%E0%AF%8D',\n",
      "                'அறிமுக ஆண்டு': None,\n",
      "                'முதல் படம்': None},\n",
      " 'ஹரிஷ் ராகவேந்திரா': {'tamil_link': 'https://ta.wikipedia.org/wiki/%E0%AE%B9%E0%AE%B0%E0%AE%BF%E0%AE%B7%E0%AF%8D_%E0%AE%B0%E0%AE%BE%E0%AE%95%E0%AE%B5%E0%AF%87%E0%AE%A8%E0%AF%8D%E0%AE%A4%E0%AE%BF%E0%AE%B0%E0%AE%BE',\n",
      "                       'அறிமுக ஆண்டு': None,\n",
      "                       'முதல் படம்': None},\n",
      " 'ஹரிஹரன்': {'tamil_link': 'https://ta.wikipedia.org/wiki/%E0%AE%B9%E0%AE%B0%E0%AE%BF%E0%AE%B9%E0%AE%B0%E0%AE%A9%E0%AF%8D',\n",
      "             'அறிமுக ஆண்டு': None,\n",
      "             'முதல் படம்': None}}\n"
     ]
    }
   ],
   "source": [
    "pprint.pprint(x)"
   ],
   "metadata": {
    "collapsed": false,
    "pycharm": {
     "name": "#%%\n"
    }
   }
  },
  {
   "cell_type": "code",
   "metadata": {
    "id": "MLZn0e51P0dj"
   },
   "source": [
    "del x['தாராபுரம் சுந்தரராஜன்']\n",
    "x['ஸ்ரீநிவாஸ்']['tamil_link'] = 'https://ta.wikipedia.org/wiki/%E0%AE%B8%E0%AF%8D%E0%AE%B0%E0%AF%80%E0%AE%A8%E0%AE%BF%E0%AE%B5%E0%AE%BE%E0%AE%B8%E0%AF%8D_(%E0%AE%AA%E0%AE%BE%E0%AE%9F%E0%AE%95%E0%AE%B0%E0%AF%8D)'\n",
    "x['ஹரிஹரன்']['tamil_link'] = 'https://ta.wikipedia.org/wiki/%E0%AE%B9%E0%AE%B0%E0%AE%BF%E0%AE%B9%E0%AE%B0%E0%AE%A9%E0%AF%8D_(%E0%AE%AA%E0%AE%BE%E0%AE%9F%E0%AE%95%E0%AE%B0%E0%AF%8D)'"
   ],
   "execution_count": 86,
   "outputs": []
  },
  {
   "cell_type": "code",
   "metadata": {
    "colab": {
     "base_uri": "https://localhost:8080/"
    },
    "id": "IpMD64hQOWJl",
    "outputId": "65161317-9288-447a-93d1-17ba9d47891f"
   },
   "source": [
    "for key in x.keys():\n",
    "  if x[key]['tamil_link'] == None:\n",
    "    x[key]['english_link'], x[key]['intro'], x[key]['content'], x[key]['profession'], x[key]['music_formats'], x[key]['instruments_played'] = None, None, None, [], [], []\n",
    "  else:\n",
    "    try:\n",
    "      x[key]['english_link'], x[key]['intro'], x[key]['content'], x[key]['profession'], x[key]['music_formats'], x[key]['instruments_played'] = scrape_tamil_page(x[key]['tamil_link'])\n",
    "    except TypeError:\n",
    "      print(key, x[key]['tamil_link'])\n",
    "    except UnboundLocalError:\n",
    "      print(\"Unbound\" ,key, x[key]['tamil_link'])\n",
    "    except AttributeError:\n",
    "      print(\"Attribute\", key, x[key]['tamil_link'])"
   ],
   "execution_count": 87,
   "outputs": [
    {
     "name": "stdout",
     "output_type": "stream",
     "text": [
      "மது பாலகிருஷ்ணன் https://ta.wikipedia.org/wiki/%E0%AE%AE%E0%AE%A4%E0%AF%81_%E0%AE%AA%E0%AE%BE%E0%AE%B2%E0%AE%95%E0%AE%BF%E0%AE%B0%E0%AF%81%E0%AE%B7%E0%AF%8D%E0%AE%A3%E0%AE%A9%E0%AF%8D\n"
     ]
    }
   ]
  },
  {
   "cell_type": "code",
   "metadata": {
    "id": "4XdIwHEAREr7"
   },
   "source": [
    "response = requests.get(x['மது பாலகிருஷ்ணன்']['tamil_link'])\n",
    "soup = BeautifulSoup(response.content, 'html.parser')\n",
    "\n",
    "rows = soup.find('div', class_=\"mw-parser-output\")\n",
    "\n",
    "intro, content, intro_flag = \"\", \"\", True\n",
    "\n",
    "for row in rows:\n",
    "  \n",
    "  if row.name == 'h2':\n",
    "    intro_flag=False\n",
    "\n",
    "  if intro_flag:\n",
    "    if row.name == 'p':\n",
    "      intro += row.text\n",
    "\n",
    "if content == \"\":\n",
    "  content = None\n",
    "\n",
    "x['மது பாலகிருஷ்ணன்']['intro'], x['மது பாலகிருஷ்ணன்']['content'], x['மது பாலகிருஷ்ணன்']['english_link'], x['மது பாலகிருஷ்ணன்']['profession'], x['மது பாலகிருஷ்ணன்']['music_formats'], x['மது பாலகிருஷ்ணன்']['instruments_played'] = intro, content, None, [], [], []"
   ],
   "execution_count": 88,
   "outputs": []
  },
  {
   "cell_type": "code",
   "metadata": {
    "id": "w9N8G2k4SITv"
   },
   "source": [
    "for key in x.keys():\n",
    "  if x[key]['english_link'] == None:\n",
    "    x[key]['place_of_birth'], x[key]['date_of_birth'], x[key]['years_active'], x[key]['image'] = None, None, None, None\n",
    "  else:\n",
    "    try:\n",
    "      x[key]['place_of_birth'], x[key]['date_of_birth'], x[key]['years_active'], x[key]['image'] = scrape_english_page(x[key]['english_link'])\n",
    "    except TypeError:\n",
    "      print(x[key]['english_link'])"
   ],
   "execution_count": 89,
   "outputs": []
  },
  {
   "cell_type": "code",
   "metadata": {
    "id": "02iGU5KLSW3U"
   },
   "source": [
    "x['மது பாலகிருஷ்ணன்']['place_of_birth'], x['மது பாலகிருஷ்ணன்']['date_of_birth'], x['மது பாலகிருஷ்ணன்']['years_active'], x['மது பாலகிருஷ்ணன்']['image'] = 'Thiruvananthapuram, Kochi, Kerala, India', '24 June 1974','1995–present', 'upload.wikimedia.org/wikipedia/commons/thumb/c/c4/Madhu_Balakrishnan.jpg/220px-Madhu_Balakrishnan.jpg'"
   ],
   "execution_count": 90,
   "outputs": []
  },
  {
   "cell_type": "markdown",
   "metadata": {
    "id": "HF2Luobu7e3M"
   },
   "source": [
    "## **இசையமைப்பாளர்களின் பட்டியல்**"
   ]
  },
  {
   "cell_type": "code",
   "metadata": {
    "id": "nNiid8dD66ST"
   },
   "source": [
    "response = requests.get(url='https://ta.wikipedia.org/wiki/%E0%AE%87%E0%AE%9A%E0%AF%88%E0%AE%AF%E0%AE%AE%E0%AF%88%E0%AE%AA%E0%AF%8D%E0%AE%AA%E0%AE%BE%E0%AE%B3%E0%AE%B0%E0%AF%8D%E0%AE%95%E0%AE%B3%E0%AE%BF%E0%AE%A9%E0%AF%8D_%E0%AE%AA%E0%AE%9F%E0%AF%8D%E0%AE%9F%E0%AE%BF%E0%AE%AF%E0%AE%B2%E0%AF%8D')\n",
    "soup = BeautifulSoup(response.content, 'html.parser')"
   ],
   "execution_count": 91,
   "outputs": []
  },
  {
   "cell_type": "code",
   "metadata": {
    "id": "SeSINWQ6784C"
   },
   "source": [
    "results = soup.find_all('tbody')\n",
    "out = {}\n",
    "\n",
    "for r in results:\n",
    "  rows = r.find_all(\"tr\")\n",
    "  for row in rows[1:]:\n",
    "    items = row.find_all(\"td\")\n",
    "    name = items[0].find('a').string\n",
    "\n",
    "    href = \"https://ta.wikipedia.org\"+items[0].find('a')['href']\n",
    "    if 'redlink' in href:\n",
    "      href = None\n",
    "\n",
    "    first_film = items[1].find('a').string\n",
    "    start_year = items[2].find_all('a')[0].string\n",
    "    # try:\n",
    "    #   end_year = items[2].find_all('a')[1].string\n",
    "    # except IndexError:\n",
    "    #   end_year = \"தற்போது\"\n",
    "    out[name] = {\n",
    "        'tamil_link': href,\n",
    "        'முதல் படம்' : first_film,\n",
    "        'அறிமுக ஆண்டு': start_year\n",
    "    }\n",
    "    # out.append([name, href, first_film, start_year])\n",
    "\n",
    "# out"
   ],
   "execution_count": 92,
   "outputs": []
  },
  {
   "cell_type": "code",
   "metadata": {
    "id": "Y_zSfH4ujdEl"
   },
   "source": [
    "out['தேவா']['tamil_link'] = 'https://ta.wikipedia.org/wiki/%E0%AE%A4%E0%AF%87%E0%AE%B5%E0%AE%BE_(%E0%AE%87%E0%AE%9A%E0%AF%88%E0%AE%AF%E0%AE%AE%E0%AF%88%E0%AE%AA%E0%AF%8D%E0%AE%AA%E0%AE%BE%E0%AE%B3%E0%AE%B0%E0%AF%8D)'"
   ],
   "execution_count": 93,
   "outputs": []
  },
  {
   "cell_type": "code",
   "metadata": {
    "id": "RZPv1ecf3Pfk"
   },
   "source": [
    "for key in out.keys():\n",
    "  if out[key]['tamil_link'] == None:\n",
    "    out[key]['english_link'], out[key]['intro'], out[key]['content'], out[key]['profession'], out[key]['music_formats'], out[key]['instruments_played'] = None, None, None, [], [], []\n",
    "  else:\n",
    "    out[key]['english_link'], out[key]['intro'], out[key]['content'], out[key]['profession'], out[key]['music_formats'], out[key]['instruments_played'] = scrape_tamil_page(out[key]['tamil_link'])"
   ],
   "execution_count": 94,
   "outputs": []
  },
  {
   "cell_type": "code",
   "metadata": {
    "id": "FtAdhWgB4mb_"
   },
   "source": [
    "for key in out.keys():\n",
    "  if out[key]['english_link'] == None:\n",
    "    out[key]['place_of_birth'], out[key]['date_of_birth'], out[key]['years_active'], out[key]['image'] = None, None, None, None\n",
    "  else:\n",
    "    try:\n",
    "      out[key]['place_of_birth'], out[key]['date_of_birth'], out[key]['years_active'], out[key]['image'] = scrape_english_page(out[key]['english_link'])\n",
    "    except TypeError:\n",
    "      print(out[key]['english_link'])"
   ],
   "execution_count": 95,
   "outputs": []
  },
  {
   "cell_type": "code",
   "execution_count": 96,
   "outputs": [],
   "source": [
    "final = dict(x)\n",
    "final.update(out)\n",
    "\n",
    "json_list = []\n",
    "for key in final.keys():\n",
    "  try:\n",
    "    json_list.append({\n",
    "      'பெயர்': key,\n",
    "      'அறிமுகம்': final[key]['intro'],\n",
    "      'உள்ளடக்கம்': final[key]['content'],\n",
    "      'முதல் படம்': final[key]['முதல் படம்'],\n",
    "      'அறிமுக ஆண்டு': final[key]['அறிமுக ஆண்டு'],\n",
    "      'பிறந்த திகதி': final[key]['date_of_birth'],\n",
    "      'பிறப்பிடம்': final[key]['place_of_birth'],\n",
    "      'செயற்பாட்டுக் காலம்': final[key]['years_active'],\n",
    "      'தொழில்' : final[key]['profession'],\n",
    "      'இசை வடிவங்கள்' : final[key]['music_formats'],\n",
    "      'இசைக்கருவிகள்' : final[key]['instruments_played']\n",
    "    })\n",
    "  except KeyError:\n",
    "    print(key)\n",
    "\n",
    "for item in json_list:\n",
    "  dob = get_dob(item['பிறந்த திகதி'])\n",
    "  if dob != None:\n",
    "    item['பிறந்த திகதி'] = dob.strftime('%d/%m/%Y')\n",
    "    item['பிறந்த திகதி தமிழில்'] = dob.strftime('%d %B %Y')\n",
    "  else:\n",
    "    item['பிறந்த திகதி தமிழில்'] = None\n",
    "\n",
    "for item in json_list:\n",
    "  if item['பிறப்பிடம்'] != None:\n",
    "    item['பிறப்பிடம்'] = re.sub(\"[\\(\\[].*?[\\)\\]]\", \"\", item['பிறப்பிடம்']).replace(\")\", \"\")"
   ],
   "metadata": {
    "collapsed": false,
    "pycharm": {
     "name": "#%%\n"
    }
   }
  },
  {
   "cell_type": "code",
   "execution_count": 102,
   "outputs": [
    {
     "data": {
      "text/plain": "117"
     },
     "execution_count": 102,
     "metadata": {},
     "output_type": "execute_result"
    }
   ],
   "source": [
    "len(json_list)"
   ],
   "metadata": {
    "collapsed": false,
    "pycharm": {
     "name": "#%%\n"
    }
   }
  },
  {
   "cell_type": "code",
   "execution_count": 101,
   "outputs": [],
   "source": [
    "with open('data/famous_people_raw_final.json', 'w', encoding='utf-8') as f:\n",
    "  json.dump(json_list, f, ensure_ascii=False, indent=4)"
   ],
   "metadata": {
    "collapsed": false,
    "pycharm": {
     "name": "#%%\n"
    }
   }
  }
 ]
}